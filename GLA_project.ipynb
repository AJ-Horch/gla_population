{
  "nbformat": 4,
  "nbformat_minor": 0,
  "metadata": {
    "colab": {
      "provenance": [],
      "authorship_tag": "ABX9TyNIstn2TZ5KzzxhzUx+3Bgt",
      "include_colab_link": true
    },
    "kernelspec": {
      "name": "python3",
      "display_name": "Python 3"
    },
    "language_info": {
      "name": "python"
    }
  },
  "cells": [
    {
      "cell_type": "markdown",
      "metadata": {
        "id": "view-in-github",
        "colab_type": "text"
      },
      "source": [
        "<a href=\"https://colab.research.google.com/github/AJ-Horch/gla_population/blob/main/GLA_project.ipynb\" target=\"_parent\"><img src=\"https://colab.research.google.com/assets/colab-badge.svg\" alt=\"Open In Colab\"/></a>"
      ]
    },
    {
      "cell_type": "code",
      "execution_count": 1,
      "metadata": {
        "id": "hzk0pZGohofH"
      },
      "outputs": [],
      "source": [
        "import pandas as pd\n",
        "import plotly.express as px\n",
        "import ipywidgets as widgets\n",
        "from IPython.display import display"
      ]
    },
    {
      "cell_type": "code",
      "source": [
        "from google.colab import drive\n",
        "drive.mount('/content/drive')"
      ],
      "metadata": {
        "colab": {
          "base_uri": "https://localhost:8080/"
        },
        "id": "RAYxVjrOhz9K",
        "outputId": "32859d29-a038-4941-8232-d9a34a1095ab"
      },
      "execution_count": 2,
      "outputs": [
        {
          "output_type": "stream",
          "name": "stdout",
          "text": [
            "Mounted at /content/drive\n"
          ]
        }
      ]
    },
    {
      "cell_type": "code",
      "source": [
        "persons = \"https://raw.githubusercontent.com/AJ-Horch/gla_population/refs/heads/main/persons_gla_pop_proj_2020_identified_capacity_scenario.csv\"\n",
        "males = \"https://raw.githubusercontent.com/AJ-Horch/gla_population/refs/heads/main/males_gla_pop_proj_2020_identified_capacity_scenario.csv\"\n",
        "females = \"https://raw.githubusercontent.com/AJ-Horch/gla_population/refs/heads/main/females_gla_pop_proj_2020_identified_capacity_scenario.csv\"\n",
        "components = \"https://raw.githubusercontent.com/AJ-Horch/gla_population/refs/heads/main/components_gla_pop_proj_2020_identified_capacity_scenario.csv\"\n",
        "development = \"https://raw.githubusercontent.com/AJ-Horch/gla_population/refs/heads/main/assumed_development_gla_pop_proj_2020_identified_capacity_scenario.csv\"\n",
        "houseing_stock = \"https://raw.githubusercontent.com/AJ-Horch/gla_population/refs/heads/main/housing_development_gla_pop_proj_2020_identified_capacity_scenario.csv\"\n",
        "\n",
        "persons = pd.read_csv(persons)\n",
        "males = pd.read_csv(males)\n",
        "females = pd.read_csv(females)\n",
        "components = pd.read_csv(components)\n",
        "houseing_stock = pd.read_csv(houseing_stock)\n",
        "assued_development = pd.read_csv(development)"
      ],
      "metadata": {
        "id": "S8hNKtwNiGMi"
      },
      "execution_count": 30,
      "outputs": []
    },
    {
      "cell_type": "markdown",
      "source": [
        "### Cleaning data"
      ],
      "metadata": {
        "id": "UTyi3D-Umidb"
      }
    },
    {
      "cell_type": "code",
      "source": [
        "assued_development.info()"
      ],
      "metadata": {
        "colab": {
          "base_uri": "https://localhost:8080/"
        },
        "id": "sTxJRy21lEGR",
        "outputId": "ad0f1486-fea5-43e2-ddbc-886f7090df97"
      },
      "execution_count": 25,
      "outputs": [
        {
          "output_type": "stream",
          "name": "stdout",
          "text": [
            "<class 'pandas.core.frame.DataFrame'>\n",
            "RangeIndex: 34 entries, 0 to 33\n",
            "Data columns (total 44 columns):\n",
            " #   Column       Non-Null Count  Dtype  \n",
            "---  ------       --------------  -----  \n",
            " 0   gss_code     34 non-null     object \n",
            " 1   borough      34 non-null     object \n",
            " 2   2012         34 non-null     int64  \n",
            " 3   2013         34 non-null     int64  \n",
            " 4   2014         34 non-null     int64  \n",
            " 5   2015         34 non-null     int64  \n",
            " 6   2016         34 non-null     int64  \n",
            " 7   2017         34 non-null     int64  \n",
            " 8   2018         34 non-null     int64  \n",
            " 9   2019         34 non-null     int64  \n",
            " 10  2020         34 non-null     int64  \n",
            " 11  2021         34 non-null     int64  \n",
            " 12  2022         34 non-null     int64  \n",
            " 13  2023         34 non-null     int64  \n",
            " 14  2024         34 non-null     int64  \n",
            " 15  2025         34 non-null     int64  \n",
            " 16  2026         34 non-null     int64  \n",
            " 17  2027         34 non-null     int64  \n",
            " 18  2028         34 non-null     int64  \n",
            " 19  2029         34 non-null     int64  \n",
            " 20  2030         34 non-null     int64  \n",
            " 21  2031         34 non-null     int64  \n",
            " 22  2032         34 non-null     int64  \n",
            " 23  2033         34 non-null     int64  \n",
            " 24  2034         34 non-null     int64  \n",
            " 25  2035         34 non-null     int64  \n",
            " 26  2036         34 non-null     int64  \n",
            " 27  2037         34 non-null     int64  \n",
            " 28  2038         34 non-null     int64  \n",
            " 29  2039         34 non-null     int64  \n",
            " 30  2040         34 non-null     int64  \n",
            " 31  2041         34 non-null     int64  \n",
            " 32  Unnamed: 32  0 non-null      float64\n",
            " 33  Unnamed: 33  0 non-null      float64\n",
            " 34  Unnamed: 34  0 non-null      float64\n",
            " 35  Unnamed: 35  0 non-null      float64\n",
            " 36  Unnamed: 36  0 non-null      float64\n",
            " 37  Unnamed: 37  0 non-null      float64\n",
            " 38  Unnamed: 38  0 non-null      float64\n",
            " 39  Unnamed: 39  0 non-null      float64\n",
            " 40  Unnamed: 40  0 non-null      float64\n",
            " 41  Unnamed: 41  0 non-null      float64\n",
            " 42  Unnamed: 42  0 non-null      float64\n",
            " 43  Unnamed: 43  0 non-null      float64\n",
            "dtypes: float64(12), int64(30), object(2)\n",
            "memory usage: 11.8+ KB\n"
          ]
        }
      ]
    },
    {
      "cell_type": "code",
      "source": [
        "persons = persons.drop(columns={'Unnamed: 35', 'Unnamed: 36', 'Unnamed: 37', 'Unnamed: 38', 'Unnamed: 39', 'Unnamed: 40',\n",
        "                                        'Unnamed: 41', 'Unnamed: 43', 'Unnamed: 42'})\n",
        "males = males.drop(columns={'Unnamed: 35', 'Unnamed: 36', 'Unnamed: 37', 'Unnamed: 38', 'Unnamed: 39', 'Unnamed: 40',\n",
        "                                        'Unnamed: 41', 'Unnamed: 43', 'Unnamed: 42'})\n",
        "females = females.drop(columns={'Unnamed: 35', 'Unnamed: 36', 'Unnamed: 37', 'Unnamed: 38', 'Unnamed: 39', 'Unnamed: 40',\n",
        "                                        'Unnamed: 41', 'Unnamed: 43', 'Unnamed: 42'})\n",
        "components = components.drop(columns={'Unnamed: 14', 'Unnamed: 15', 'Unnamed: 16', 'Unnamed: 17',\n",
        "                            'Unnamed: 18','Unnamed: 19','Unnamed: 20','Unnamed: 21',\n",
        "                            'Unnamed: 22', 'Unnamed: 23', 'Unnamed: 24', 'Unnamed: 25',\n",
        "                            'Unnamed: 26','Unnamed: 27','Unnamed: 28','Unnamed: 29',\n",
        "                            'Unnamed: 30','Unnamed: 31','Unnamed: 32','Unnamed: 33',\n",
        "                            'Unnamed: 34', 'Unnamed: 35', 'Unnamed: 36', 'Unnamed: 37',\n",
        "                            'Unnamed: 38', 'Unnamed: 39', 'Unnamed: 40','Unnamed: 41',\n",
        "                            'Unnamed: 43', 'Unnamed: 42'})\n",
        "houseing_stock = houseing_stock.drop(columns={'Unnamed: 33',\n",
        "                            'Unnamed: 34', 'Unnamed: 35', 'Unnamed: 36', 'Unnamed: 37',\n",
        "                            'Unnamed: 38', 'Unnamed: 39', 'Unnamed: 40','Unnamed: 41',\n",
        "                            'Unnamed: 43', 'Unnamed: 42'})\n",
        "assued_development = assued_development.drop(columns={'Unnamed: 32','Unnamed: 33',\n",
        "                            'Unnamed: 34', 'Unnamed: 35', 'Unnamed: 36', 'Unnamed: 37',\n",
        "                            'Unnamed: 38', 'Unnamed: 39', 'Unnamed: 40','Unnamed: 41',\n",
        "                            'Unnamed: 43', 'Unnamed: 42'})"
      ],
      "metadata": {
        "id": "eUiXuCenmh2q"
      },
      "execution_count": 31,
      "outputs": []
    },
    {
      "cell_type": "code",
      "source": [],
      "metadata": {
        "id": "pnW0nKa6pNWj"
      },
      "execution_count": null,
      "outputs": []
    }
  ]
}